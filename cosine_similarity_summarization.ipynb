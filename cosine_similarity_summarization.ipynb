{
 "cells": [
  {
   "cell_type": "code",
   "execution_count": null,
   "metadata": {
    "colab": {
     "base_uri": "https://localhost:8080/"
    },
    "id": "H42bPl0oLYpy",
    "outputId": "5df1e7ad-f439-443b-a6dc-2ec7854d6ae8"
   },
   "outputs": [
    {
     "name": "stdout",
     "output_type": "stream",
     "text": [
      "[nltk_data] Downloading package punkt to /root/nltk_data...\n",
      "[nltk_data]   Package punkt is already up-to-date!\n"
     ]
    },
    {
     "data": {
      "text/plain": [
       "Index(['pn_num', 'case_num', 'pn_history'], dtype='object')"
      ]
     },
     "execution_count": 20,
     "metadata": {},
     "output_type": "execute_result"
    }
   ],
   "source": [
    "#Importing all the required dependencies and required libraries\n",
    "import pandas as pd\n",
    "import os\n",
    "import nltk\n",
    "from nltk.corpus import stopwords\n",
    "from nltk.cluster.util import cosine_distance\n",
    "from nltk import sent_tokenize\n",
    "from nltk import word_tokenize\n",
    "from nltk.corpus import words\n",
    "import numpy as np\n",
    "import networkx as nx\n",
    "from collections import Counter\n",
    "import re\n",
    "\n",
    "nltk.download('punkt')\n",
    "df = pd.read_csv('/content/drive/MyDrive/inc_hack/patient_notes.csv')\n",
    "df.columns"
   ]
  },
  {
   "cell_type": "code",
   "execution_count": null,
   "metadata": {
    "colab": {
     "base_uri": "https://localhost:8080/"
    },
    "id": "CFMl14nzveuk",
    "outputId": "59f0a843-649a-4c8a-ebb8-f0d153b9dffc"
   },
   "outputs": [
    {
     "data": {
      "text/plain": [
       "Index(['pn_num', 'case_num', 'pn_history'], dtype='object')"
      ]
     },
     "execution_count": 2,
     "metadata": {},
     "output_type": "execute_result"
    }
   ],
   "source": [
    "#Displaying the columns in the database\n",
    "df.keys()"
   ]
  },
  {
   "cell_type": "code",
   "execution_count": null,
   "metadata": {
    "colab": {
     "base_uri": "https://localhost:8080/",
     "height": 206
    },
    "id": "oJD12t1QMbjV",
    "outputId": "655471f6-37c1-4e07-9168-5af09fd9ea09"
   },
   "outputs": [
    {
     "data": {
      "text/html": [
       "\n",
       "  <div id=\"df-6abbf5f3-8411-4ea7-87bc-462894ca5a2d\">\n",
       "    <div class=\"colab-df-container\">\n",
       "      <div>\n",
       "<style scoped>\n",
       "    .dataframe tbody tr th:only-of-type {\n",
       "        vertical-align: middle;\n",
       "    }\n",
       "\n",
       "    .dataframe tbody tr th {\n",
       "        vertical-align: top;\n",
       "    }\n",
       "\n",
       "    .dataframe thead th {\n",
       "        text-align: right;\n",
       "    }\n",
       "</style>\n",
       "<table border=\"1\" class=\"dataframe\">\n",
       "  <thead>\n",
       "    <tr style=\"text-align: right;\">\n",
       "      <th></th>\n",
       "      <th>pn_num</th>\n",
       "      <th>case_num</th>\n",
       "      <th>pn_history</th>\n",
       "    </tr>\n",
       "  </thead>\n",
       "  <tbody>\n",
       "    <tr>\n",
       "      <th>0</th>\n",
       "      <td>0</td>\n",
       "      <td>0</td>\n",
       "      <td>17-year-old male, has come to the student heal...</td>\n",
       "    </tr>\n",
       "    <tr>\n",
       "      <th>1</th>\n",
       "      <td>1</td>\n",
       "      <td>0</td>\n",
       "      <td>17 yo male with recurrent palpitations for the...</td>\n",
       "    </tr>\n",
       "    <tr>\n",
       "      <th>2</th>\n",
       "      <td>2</td>\n",
       "      <td>0</td>\n",
       "      <td>Dillon Cleveland is a 17 y.o. male patient wit...</td>\n",
       "    </tr>\n",
       "    <tr>\n",
       "      <th>3</th>\n",
       "      <td>3</td>\n",
       "      <td>0</td>\n",
       "      <td>a 17 yo m c/o palpitation started 3 mos ago; \\...</td>\n",
       "    </tr>\n",
       "    <tr>\n",
       "      <th>4</th>\n",
       "      <td>4</td>\n",
       "      <td>0</td>\n",
       "      <td>17yo male with no pmh here for evaluation of p...</td>\n",
       "    </tr>\n",
       "  </tbody>\n",
       "</table>\n",
       "</div>\n",
       "      <button class=\"colab-df-convert\" onclick=\"convertToInteractive('df-6abbf5f3-8411-4ea7-87bc-462894ca5a2d')\"\n",
       "              title=\"Convert this dataframe to an interactive table.\"\n",
       "              style=\"display:none;\">\n",
       "        \n",
       "  <svg xmlns=\"http://www.w3.org/2000/svg\" height=\"24px\"viewBox=\"0 0 24 24\"\n",
       "       width=\"24px\">\n",
       "    <path d=\"M0 0h24v24H0V0z\" fill=\"none\"/>\n",
       "    <path d=\"M18.56 5.44l.94 2.06.94-2.06 2.06-.94-2.06-.94-.94-2.06-.94 2.06-2.06.94zm-11 1L8.5 8.5l.94-2.06 2.06-.94-2.06-.94L8.5 2.5l-.94 2.06-2.06.94zm10 10l.94 2.06.94-2.06 2.06-.94-2.06-.94-.94-2.06-.94 2.06-2.06.94z\"/><path d=\"M17.41 7.96l-1.37-1.37c-.4-.4-.92-.59-1.43-.59-.52 0-1.04.2-1.43.59L10.3 9.45l-7.72 7.72c-.78.78-.78 2.05 0 2.83L4 21.41c.39.39.9.59 1.41.59.51 0 1.02-.2 1.41-.59l7.78-7.78 2.81-2.81c.8-.78.8-2.07 0-2.86zM5.41 20L4 18.59l7.72-7.72 1.47 1.35L5.41 20z\"/>\n",
       "  </svg>\n",
       "      </button>\n",
       "      \n",
       "  <style>\n",
       "    .colab-df-container {\n",
       "      display:flex;\n",
       "      flex-wrap:wrap;\n",
       "      gap: 12px;\n",
       "    }\n",
       "\n",
       "    .colab-df-convert {\n",
       "      background-color: #E8F0FE;\n",
       "      border: none;\n",
       "      border-radius: 50%;\n",
       "      cursor: pointer;\n",
       "      display: none;\n",
       "      fill: #1967D2;\n",
       "      height: 32px;\n",
       "      padding: 0 0 0 0;\n",
       "      width: 32px;\n",
       "    }\n",
       "\n",
       "    .colab-df-convert:hover {\n",
       "      background-color: #E2EBFA;\n",
       "      box-shadow: 0px 1px 2px rgba(60, 64, 67, 0.3), 0px 1px 3px 1px rgba(60, 64, 67, 0.15);\n",
       "      fill: #174EA6;\n",
       "    }\n",
       "\n",
       "    [theme=dark] .colab-df-convert {\n",
       "      background-color: #3B4455;\n",
       "      fill: #D2E3FC;\n",
       "    }\n",
       "\n",
       "    [theme=dark] .colab-df-convert:hover {\n",
       "      background-color: #434B5C;\n",
       "      box-shadow: 0px 1px 3px 1px rgba(0, 0, 0, 0.15);\n",
       "      filter: drop-shadow(0px 1px 2px rgba(0, 0, 0, 0.3));\n",
       "      fill: #FFFFFF;\n",
       "    }\n",
       "  </style>\n",
       "\n",
       "      <script>\n",
       "        const buttonEl =\n",
       "          document.querySelector('#df-6abbf5f3-8411-4ea7-87bc-462894ca5a2d button.colab-df-convert');\n",
       "        buttonEl.style.display =\n",
       "          google.colab.kernel.accessAllowed ? 'block' : 'none';\n",
       "\n",
       "        async function convertToInteractive(key) {\n",
       "          const element = document.querySelector('#df-6abbf5f3-8411-4ea7-87bc-462894ca5a2d');\n",
       "          const dataTable =\n",
       "            await google.colab.kernel.invokeFunction('convertToInteractive',\n",
       "                                                     [key], {});\n",
       "          if (!dataTable) return;\n",
       "\n",
       "          const docLinkHtml = 'Like what you see? Visit the ' +\n",
       "            '<a target=\"_blank\" href=https://colab.research.google.com/notebooks/data_table.ipynb>data table notebook</a>'\n",
       "            + ' to learn more about interactive tables.';\n",
       "          element.innerHTML = '';\n",
       "          dataTable['output_type'] = 'display_data';\n",
       "          await google.colab.output.renderOutput(dataTable, element);\n",
       "          const docLink = document.createElement('div');\n",
       "          docLink.innerHTML = docLinkHtml;\n",
       "          element.appendChild(docLink);\n",
       "        }\n",
       "      </script>\n",
       "    </div>\n",
       "  </div>\n",
       "  "
      ],
      "text/plain": [
       "   pn_num  case_num                                         pn_history\n",
       "0       0         0  17-year-old male, has come to the student heal...\n",
       "1       1         0  17 yo male with recurrent palpitations for the...\n",
       "2       2         0  Dillon Cleveland is a 17 y.o. male patient wit...\n",
       "3       3         0  a 17 yo m c/o palpitation started 3 mos ago; \\...\n",
       "4       4         0  17yo male with no pmh here for evaluation of p..."
      ]
     },
     "execution_count": 4,
     "metadata": {},
     "output_type": "execute_result"
    }
   ],
   "source": [
    "#Displaying the top 5 elements\n",
    "df.head()"
   ]
  },
  {
   "cell_type": "code",
   "execution_count": null,
   "metadata": {
    "colab": {
     "base_uri": "https://localhost:8080/"
    },
    "id": "mF2Omve8oWl4",
    "outputId": "49817bef-711f-4bf7-a958-863b68c3d5a5"
   },
   "outputs": [
    {
     "data": {
      "text/plain": [
       "['17-year-old male, has come to the student health clinic complaining of heart pounding.',\n",
       " \"Mr. Cleveland's mother has given verbal consent for a history, physical examination, and treatment\\r\\n-began 2-3 months ago,sudden,intermittent for 2 days(lasting 3-4 min),worsening,non-allev/aggrav\\r\\n-associated with dispnea on exersion and rest,stressed out about school\\r\\n-reports fe feels like his heart is jumping out of his chest\\r\\n-ros:denies chest pain,dyaphoresis,wt loss,chills,fever,nausea,vomiting,pedal edeam\\r\\n-pmh:non,meds :aderol (from a friend),nkda\\r\\n-fh:father had MI recently,mother has thyroid dz\\r\\n-sh:non-smoker,mariguana 5-6 months ago,3 beers on the weekend, basketball at school\\r\\n-sh:no std\",\n",
       " '17 yo male with recurrent palpitations for the past 3 mo lasting about 3 - 4 min, it happened about 5 - 6 times since the beginning.',\n",
       " 'One time durign a baskeball game two days ago light headedness, pressure in the chest, catching breath, but no fainting.',\n",
       " 'During teh episodes no sweating.',\n",
       " 'No diarrhea, no heat intolerance, no weight loss.',\n",
       " 'Has tried aterol to be able to better concentrate, has received it from his roommate.',\n",
       " '.',\n",
       " 'Dillon Cleveland is a 17 y.o.',\n",
       " 'male patient with no significant PMH who presents with complaints of heart pounding.',\n",
       " 'This has been going on for a few months and happens once or twice a month.',\n",
       " 'He cannot think of any triggers, and it has occurred both with activity and at rest.',\n",
       " 'Occasionally, it is accompanied by chest pressure but not pain that is located at the center of his chest.',\n",
       " 'On one instance, he experienced chest pressure, lightheadedness and shortness of breath for 10 minutes with the heart pounding.',\n",
       " 'Otherwise, he has not had shortness of breath, chest pain, anxiety, \\r\\n\\r\\nMedication: adderall twice a week as study aid (not prescribed)\\r\\nFH: mother - thyroid disease, father - heart attack at age 52, both living\\r\\nSH: no smoking; 3-4 drinks on the weekend per sitting; marijuanna once recently, no other recreational drugs',\n",
       " 'a 17 yo m c/o palpitation started 3 mos ago; \\r\\nNOTHING IMPROVES OR EXACERBATES THE SYMPTOMS ACCORDING TO HIM; IT CAN HAPPEN ANY TIME; MAY TAKE A FEW MINUTES; LAST TIME HAPPENED 2 DAYS AGO DURING PLAYING A GAME AND IT WAS ASSOCIATED WITH RETROSTERNAL PRESSURE LIKE DISCOMFORT; AND HE FELT LIGHTHEADED.',\n",
       " 'BUT HE DID NOT LOSE CONCIOUSNESS AND DID NOT FALL.',\n",
       " 'NOT ASSOCIATED WITH NAUSEA VOMITING; HEADACHE; ABDOMINAL PAIN; CHANGES IN URINATION OR BOWEL HABITS, OR TREMOR OR SKIN OR HAIR CHANGE OR INTOLERABC\\r\\n\\r\\nPMH NONE\\r\\nPSHH: NONE\\r\\nMEDS: ADEROL TO STAY AWAKE\\r\\nHOSP: NONE\\r\\nFH: MOTHER HAS THYROID DISEASE; FATHER HAS CAD X 1 YR\\r\\nSH: NO SMOKING; DRINKING ON WEEKENDS CAGE 0/4; ONE TIME USE OF MARIJUANA',\n",
       " '17yo male with no pmh here for evaluation of palpitations.',\n",
       " 'States for the last 3-4mo he has felt that his heart with intermittently \"beat out of his chest,\" with some associated difficulty catching his breath.']"
      ]
     },
     "execution_count": 6,
     "metadata": {},
     "output_type": "execute_result"
    }
   ],
   "source": [
    "#Tokenization of the sentences using nltk\n",
    "sentences = []\n",
    "for s in df['pn_history']:\n",
    "  sentences.append(sent_tokenize(s))\n",
    "sentences = [y for x in sentences for y in x]\n",
    "sentences[:20]"
   ]
  },
  {
   "cell_type": "code",
   "execution_count": null,
   "metadata": {
    "colab": {
     "base_uri": "https://localhost:8080/"
    },
    "id": "R5iPo_wTPzSk",
    "outputId": "ef28f02b-df72-4c44-ccb7-29b155185860"
   },
   "outputs": [
    {
     "data": {
      "text/plain": [
       "6118"
      ]
     },
     "execution_count": 7,
     "metadata": {},
     "output_type": "execute_result"
    }
   ],
   "source": [
    "#Making a word embeddings list to compare with\n",
    "#Involves brute forcing \n",
    "\n",
    "word_embeddings = {}\n",
    "\n",
    "glove_path = '/content/drive/MyDrive/inc_hack/glove.6B.100d.txt'\n",
    "file = open(glove_path, encoding='utf-8')\n",
    "for line in file:\n",
    "    values = line.split()\n",
    "    word = values[0]\n",
    "    coefs = np.asarray(values[1:], dtype='float32')\n",
    "    word_embeddings[word] = coefs\n",
    "file.close()\n",
    "len(word_embeddings)"
   ]
  },
  {
   "cell_type": "code",
   "execution_count": null,
   "metadata": {
    "colab": {
     "base_uri": "https://localhost:8080/"
    },
    "id": "vESQNMAJwbBn",
    "outputId": "1b9a08c0-9a55-4bac-e0da-3d9b437623b4"
   },
   "outputs": [
    {
     "name": "stderr",
     "output_type": "stream",
     "text": [
      "/usr/local/lib/python3.7/dist-packages/ipykernel_launcher.py:1: FutureWarning: The default value of regex will change from True to False in a future version.\n",
      "  \"\"\"Entry point for launching an IPython kernel.\n"
     ]
    }
   ],
   "source": [
    "#CLeaning the data using regex and pandas DF, Ignoring anything other than the letters from A-Z and a-z in strings\n",
    "clean_sentences = pd.Series(sentences).str.replace(\"[^a-zA-Z]\", \" \")"
   ]
  },
  {
   "cell_type": "code",
   "execution_count": null,
   "metadata": {
    "id": "kBDUYROAxDMr"
   },
   "outputs": [],
   "source": [
    "#Making the sentences lowercase for faster model detection\n",
    "clean_sentences = [s.lower() for s in clean_sentences]"
   ]
  },
  {
   "cell_type": "code",
   "execution_count": null,
   "metadata": {
    "colab": {
     "base_uri": "https://localhost:8080/"
    },
    "id": "2sg4ZaiBxFpG",
    "outputId": "27010de9-4d42-4dee-9d81-fd3eccd22179"
   },
   "outputs": [
    {
     "name": "stdout",
     "output_type": "stream",
     "text": [
      "[nltk_data] Downloading package stopwords to /root/nltk_data...\n",
      "[nltk_data]   Unzipping corpora/stopwords.zip.\n"
     ]
    },
    {
     "data": {
      "text/plain": [
       "True"
      ]
     },
     "execution_count": 10,
     "metadata": {},
     "output_type": "execute_result"
    }
   ],
   "source": [
    "#one time download nltk library for stopword removal\n",
    "nltk.download('stopwords')"
   ]
  },
  {
   "cell_type": "code",
   "execution_count": null,
   "metadata": {
    "id": "df_skAIVxIzh"
   },
   "outputs": [],
   "source": [
    "#Selecting the stopwords language\n",
    "stop_words = stopwords.words('english')"
   ]
  },
  {
   "cell_type": "code",
   "execution_count": null,
   "metadata": {
    "id": "qxXHcOLhxOVp"
   },
   "outputs": [],
   "source": [
    "#Removing the stopwords from the cleaned sentences\n",
    "def remove_stopwords(sen):\n",
    "    sen_new = \" \".join([i for i in sen if i not in stop_words])\n",
    "    return sen_new\n",
    "clean_sentences = [remove_stopwords(r.split()) for r in clean_sentences]"
   ]
  },
  {
   "cell_type": "code",
   "execution_count": null,
   "metadata": {
    "colab": {
     "base_uri": "https://localhost:8080/"
    },
    "id": "j0bF37Wix7lD",
    "outputId": "6d0ce002-89ac-4980-e9fa-8e8b66a65b34"
   },
   "outputs": [
    {
     "name": "stdout",
     "output_type": "stream",
     "text": [
      "423184\n"
     ]
    }
   ],
   "source": [
    "#Vectorization of sentences for feeding into models for model validation\n",
    "sentence_vectors = []\n",
    "for i in clean_sentences:\n",
    "  if len(i) != 0:\n",
    "    v = sum([word_embeddings.get(w, np.zeros((100,))) for w in i.split()])/(len(i.split())+0.001)\n",
    "  else:\n",
    "    v = np.zeros((100,))\n",
    "  sentence_vectors.append(v)\n",
    "print(len(sentences))"
   ]
  },
  {
   "cell_type": "code",
   "execution_count": null,
   "metadata": {
    "colab": {
     "base_uri": "https://localhost:8080/"
    },
    "id": "UkKaI4Fg1z-y",
    "outputId": "ea2bb96c-105c-4ba3-e34a-f4f390c5e727"
   },
   "outputs": [
    {
     "name": "stdout",
     "output_type": "stream",
     "text": [
      "1000\n"
     ]
    }
   ],
   "source": [
    "#Selecting only first 1000 as the computational power increases exponentially with the number of cases, we tried to use 4000 and it computed in 46:07 minutes\n",
    "sentences = sentences[0:1000]\n",
    "print(len(sentences))\n",
    "sim_mat = np.zeros([len(sentences), len(sentences)])"
   ]
  },
  {
   "cell_type": "code",
   "execution_count": null,
   "metadata": {
    "id": "sFwBPlGE2KtM"
   },
   "outputs": [],
   "source": [
    "#Importing cosine similarity algorithm from scikit learn's library\n",
    "from sklearn.metrics.pairwise import cosine_similarity"
   ]
  },
  {
   "cell_type": "code",
   "execution_count": null,
   "metadata": {
    "id": "kNwoXN9s2LcQ"
   },
   "outputs": [],
   "source": [
    "#implementing basic Cosine Similarity between the vectors which we got from the sentences\n",
    "for i in range(len(sentences)):\n",
    "  for j in range(len(sentences)):\n",
    "    if i != j:\n",
    "      sim_mat[i][j] = cosine_similarity(sentence_vectors[i].reshape(1,100), sentence_vectors[j].reshape(1,100))[0,0]"
   ]
  },
  {
   "cell_type": "code",
   "execution_count": null,
   "metadata": {
    "id": "Oa_5oHVp2TlF"
   },
   "outputs": [],
   "source": [
    "#Using PageRank algorithm for ranking of sentences as this method uses weights, similarity, frequency and occurance to decide importance of sentences words\n",
    "nx_graph = nx.from_numpy_array(sim_mat)\n",
    "scores = nx.pagerank(nx_graph)"
   ]
  },
  {
   "cell_type": "code",
   "execution_count": null,
   "metadata": {
    "id": "OOnT-zSy2VQ0"
   },
   "outputs": [],
   "source": [
    "ranked_sentences = sorted(((scores[i],s) for i,s in enumerate(sentences)), reverse=True)\n"
   ]
  },
  {
   "cell_type": "code",
   "execution_count": null,
   "metadata": {
    "colab": {
     "base_uri": "https://localhost:8080/"
    },
    "id": "hF0R75yl2XoU",
    "outputId": "8c360a71-6bb1-40b2-8ab6-24c59a40770d"
   },
   "outputs": [
    {
     "name": "stdout",
     "output_type": "stream",
     "text": [
      "ROS: negative for chest pressure, chest pain, SOB, edema, palpitations, dizziness, headaches, lightheadedness, sweating, appetite or weight changes\r\n",
      "PMH, PSH: none\r\n",
      "Meds: none prescribed\r\n",
      "NKDA\r\n",
      "FH: mother has a \"thyroid problem\" and father has a \"heart condition\"\r\n",
      "SH: takes Adderall illicitly a few times a week since starting college; smoked marijuana once; no tobacco; drinks 3-4 beers on weekends; plays basketball and runs regularly for exercise\n",
      "Patient denies fever, night sweats, chills, abdominal pain, urinary/bowel habits changes, weight/appetite changes\r\n",
      "PMH:unremarakble\r\n",
      "PSH:Unremrakbale\r\n",
      "Meds:Adarol to help with studies (started in the beginning of high school), last intake 3-4 days ago\r\n",
      "SH:lives with roomate, smokes pot, non smoker, , drinks 3-4 beers on the weekend\r\n",
      "FH:pateranl MI last year, maternal thyroid disease\r\n",
      "Sexual: active with 1 girlfriend, heterosexual\n",
      "No diaphoresis, no vomiting, no tremor, no loss of consciousness\r\n",
      "No fever, no nausea or vomiting or diarrhea\r\n",
      "No rash, no change in skin colour\r\n",
      "Appetite good\r\n",
      "Denies anxiety prior to or during this episode\r\n",
      "PHx: healthy\r\n",
      "Medications: Taking friend's prescription Adderral to help study for tests (not prescribed for him); taking a few times per week - reported no temporal relation to palpitations\r\n",
      "Allergies: none\r\n",
      "Substances: no cigarettes, 3-4 beers on weekends, Adderall; no cocaine use or other substances\r\n",
      "Social history: freshman in college - reported no concerns about school\r\n",
      "Family history: father - MI at 52, mother - thyroid disease\n",
      "-Denies throat pain, headache, dizziness, loss of conciousness, chest pain, nausea, vomiting, changes in bowel and urinary habits\r\n",
      "ROS: as per HPI\r\n",
      "PMH: no medical issues, no allergies, takes friend's adderall (dose unknown)\r\n",
      "SOC: No tobacco use, EtOH use 3-4 drinks per week, smoked \"pot\" once, full time student\r\n",
      "FAM: Mom-thyroid problem, Dad-MI last year\n",
      "ROS- negative except above\r\n",
      "PMH-none\r\n",
      "PSH-none\r\n",
      "Meds- none \r\n",
      "Allergies-NKDA\r\n",
      "FMH- Father MI age 52, Mother unknown thyroid condition\r\n",
      "SHx- College student, sexually active with gf of 1 year uses condoms, uses roommates adderal 2-3x a week, no drug or tobacco use, drinks 2-3 beers on friday and saturday night\n"
     ]
    }
   ],
   "source": [
    "#printing the first 5 Sentences to check, and as we have explained the summaries are more or less the exact as what we had given inputs, so this model was not used.\n",
    "for i in range(5):\n",
    "  print(ranked_sentences[i][1])"
   ]
  },
  {
   "cell_type": "code",
   "execution_count": null,
   "metadata": {
    "id": "9otbaoGsK4ZR"
   },
   "outputs": [],
   "source": [
    "# ##################################\n",
    "\n",
    "# GPT-2 MODEL FOR TEXT SUMMARIZATION \n",
    "\n",
    "# ##################################\n",
    "\n",
    "#Importing the necessary libraries and modules\n",
    "import torch\n",
    "from summarizer import Summarizer,TransformerSummarizer\n",
    "#An example of sentences which we will be using, the 'body' variable contains the cleaned_sentence[1] string and we will use it to demonstrate the GPT2_model\n",
    "body = '''year old male has come to the student health clinic complaining of heart pounding mr cleveland s mother has given verbal consent for a history physical examination and treatment began months ago sudden intermittent for days lasting min  worsening non allev aggrav associated with dispnea on exersion and rest stressed out about school reports fe feels like his heart is jumping out of his chest ros denies chest pain dyaphoresis wt loss chills fever nausea vomiting pedal edeam pmh non meds aderol from a friend  nkda fh father had mi recently mother has thyroid dz sh non smoker mariguana '''\n",
    "#Fitting the model for sample working as we didnt have enough time to fit the whole dataframe\n",
    "GPT2_model = TransformerSummarizer(transformer_type=\"GPT2\",transformer_model_key=\"gpt2-medium\")\n",
    "#Joining the output of the model to make meaningful sentences\n",
    "full = ''.join(GPT2_model(body, min_length=50))\n",
    "#Printing\n",
    "print(full)\n"
   ]
  },
  {
   "cell_type": "markdown",
   "metadata": {
    "id": "QGMiZtvYLYWg"
   },
   "source": [
    "\n",
    "![Screenshot 2022-04-27 184800.jpg](data:image/jpeg;base64,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)"
   ]
  }
 ],
 "metadata": {
  "colab": {
   "collapsed_sections": [],
   "name": "clean.ipynb",
   "provenance": []
  },
  "kernelspec": {
   "display_name": "Python 3 (ipykernel)",
   "language": "python",
   "name": "python3"
  },
  "language_info": {
   "codemirror_mode": {
    "name": "ipython",
    "version": 3
   },
   "file_extension": ".py",
   "mimetype": "text/x-python",
   "name": "python",
   "nbconvert_exporter": "python",
   "pygments_lexer": "ipython3",
   "version": "3.9.7"
  }
 },
 "nbformat": 4,
 "nbformat_minor": 1
}
