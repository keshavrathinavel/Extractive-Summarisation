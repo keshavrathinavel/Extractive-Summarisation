{
 "cells": [
  {
   "cell_type": "markdown",
   "metadata": {
    "id": "7ZJ8Xm8v-GUs"
   },
   "source": [
    "**Exhaustive Synopsis using Extractive Summarization Approaches for Patient Conversations with Chatbots**\n",
    "\n",
    "Technologies used:\n",
    "\n",
    "\n",
    "1.   Nltk Libraries\n",
    "2.   Sumy libraries - SpaCy models for Parsing, Tokenization, LexRank, Entity Linking and Summarization\n",
    "\n",
    "\n",
    "\n",
    "\n",
    "\n"
   ]
  },
  {
   "cell_type": "code",
   "execution_count": null,
   "metadata": {
    "colab": {
     "base_uri": "https://localhost:8080/"
    },
    "id": "9ahxz31nRuiO",
    "outputId": "7f442c9c-24b2-4cd0-cdc7-e21ec92447ec"
   },
   "outputs": [
    {
     "name": "stdout",
     "output_type": "stream",
     "text": [
      "[nltk_data] Downloading package punkt to /root/nltk_data...\n",
      "[nltk_data]   Unzipping tokenizers/punkt.zip.\n"
     ]
    },
    {
     "data": {
      "text/plain": [
       "True"
      ]
     },
     "execution_count": 3,
     "metadata": {},
     "output_type": "execute_result"
    }
   ],
   "source": [
    "# importing necessary libraries\n",
    "import os\n",
    "from textblob import TextBlob\n",
    "import spacy\n",
    "from gensim.summarization.summarizer import summarize\n",
    "import nltk\n",
    "from nltk.corpus import stopwords\n",
    "from nltk.cluster.util import cosine_distance\n",
    "from nltk import sent_tokenize\n",
    "from nltk import word_tokenize\n",
    "\n",
    "# This tokenizer divides a text into a list of sentences\n",
    "# by using an unsupervised algorithm to build a model for abbreviation\n",
    "# words, collocations, and words that start sentences.  It must be\n",
    "# trained on a large collection of plaintext in the target language\n",
    "# before it can be used.\n",
    "\n",
    "nltk.download('punkt')\n"
   ]
  },
  {
   "cell_type": "code",
   "execution_count": null,
   "metadata": {
    "colab": {
     "base_uri": "https://localhost:8080/"
    },
    "id": "y1tFCXC_R_fQ",
    "outputId": "420f109e-8bdb-425f-d959-e3a5ba42b31a"
   },
   "outputs": [
    {
     "name": "stdout",
     "output_type": "stream",
     "text": [
      "Collecting sumy\n",
      "  Downloading sumy-0.10.0-py2.py3-none-any.whl (94 kB)\n",
      "\u001b[?25l\r",
      "\u001b[K     |███▌                            | 10 kB 30.2 MB/s eta 0:00:01\r",
      "\u001b[K     |███████                         | 20 kB 29.4 MB/s eta 0:00:01\r",
      "\u001b[K     |██████████▍                     | 30 kB 13.1 MB/s eta 0:00:01\r",
      "\u001b[K     |██████████████                  | 40 kB 10.1 MB/s eta 0:00:01\r",
      "\u001b[K     |█████████████████▍              | 51 kB 6.3 MB/s eta 0:00:01\r",
      "\u001b[K     |████████████████████▉           | 61 kB 7.5 MB/s eta 0:00:01\r",
      "\u001b[K     |████████████████████████▎       | 71 kB 7.9 MB/s eta 0:00:01\r",
      "\u001b[K     |███████████████████████████▉    | 81 kB 7.2 MB/s eta 0:00:01\r",
      "\u001b[K     |███████████████████████████████▎| 92 kB 8.0 MB/s eta 0:00:01\r",
      "\u001b[K     |████████████████████████████████| 94 kB 2.3 MB/s \n",
      "\u001b[?25hRequirement already satisfied: nltk>=3.0.2 in /usr/local/lib/python3.7/dist-packages (from sumy) (3.2.5)\n",
      "Requirement already satisfied: docopt<0.7,>=0.6.1 in /usr/local/lib/python3.7/dist-packages (from sumy) (0.6.2)\n",
      "Requirement already satisfied: requests>=2.7.0 in /usr/local/lib/python3.7/dist-packages (from sumy) (2.23.0)\n",
      "Collecting breadability>=0.1.20\n",
      "  Downloading breadability-0.1.20.tar.gz (32 kB)\n",
      "Collecting pycountry>=18.2.23\n",
      "  Downloading pycountry-22.3.5.tar.gz (10.1 MB)\n",
      "\u001b[K     |████████████████████████████████| 10.1 MB 40.6 MB/s \n",
      "\u001b[?25h  Installing build dependencies ... \u001b[?25l\u001b[?25hdone\n",
      "  Getting requirements to build wheel ... \u001b[?25l\u001b[?25hdone\n",
      "    Preparing wheel metadata ... \u001b[?25l\u001b[?25hdone\n",
      "Requirement already satisfied: chardet in /usr/local/lib/python3.7/dist-packages (from breadability>=0.1.20->sumy) (3.0.4)\n",
      "Requirement already satisfied: lxml>=2.0 in /usr/local/lib/python3.7/dist-packages (from breadability>=0.1.20->sumy) (4.2.6)\n",
      "Requirement already satisfied: six in /usr/local/lib/python3.7/dist-packages (from nltk>=3.0.2->sumy) (1.15.0)\n",
      "Requirement already satisfied: setuptools in /usr/local/lib/python3.7/dist-packages (from pycountry>=18.2.23->sumy) (57.4.0)\n",
      "Requirement already satisfied: urllib3!=1.25.0,!=1.25.1,<1.26,>=1.21.1 in /usr/local/lib/python3.7/dist-packages (from requests>=2.7.0->sumy) (1.24.3)\n",
      "Requirement already satisfied: idna<3,>=2.5 in /usr/local/lib/python3.7/dist-packages (from requests>=2.7.0->sumy) (2.10)\n",
      "Requirement already satisfied: certifi>=2017.4.17 in /usr/local/lib/python3.7/dist-packages (from requests>=2.7.0->sumy) (2021.10.8)\n",
      "Building wheels for collected packages: breadability, pycountry\n",
      "  Building wheel for breadability (setup.py) ... \u001b[?25l\u001b[?25hdone\n",
      "  Created wheel for breadability: filename=breadability-0.1.20-py2.py3-none-any.whl size=21712 sha256=eaed1e6e3dbf2fec57358791475e17088da63783a122fa284fbc7205ec07b37b\n",
      "  Stored in directory: /root/.cache/pip/wheels/d4/bf/51/81d27ad638e1a6dca4f362ecc33d1e2c764b8ea7ec751b8fc1\n",
      "  Building wheel for pycountry (PEP 517) ... \u001b[?25l\u001b[?25hdone\n",
      "  Created wheel for pycountry: filename=pycountry-22.3.5-py2.py3-none-any.whl size=10681845 sha256=53d3b9bc426d16aeca92f5c9d7cfaf023ab0975b82e526caf30355967d02d611\n",
      "  Stored in directory: /root/.cache/pip/wheels/0e/06/e8/7ee176e95ea9a8a8c3b3afcb1869f20adbd42413d4611c6eb4\n",
      "Successfully built breadability pycountry\n",
      "Installing collected packages: pycountry, breadability, sumy\n",
      "Successfully installed breadability-0.1.20 pycountry-22.3.5 sumy-0.10.0\n"
     ]
    }
   ],
   "source": [
    "# Sumy - module for automatic summarization of text documents\n",
    "!pip install sumy"
   ]
  },
  {
   "cell_type": "code",
   "execution_count": null,
   "metadata": {
    "id": "onNce8wmRwoB"
   },
   "outputs": [],
   "source": [
    "# importing other necessary libraries required for text pre-processing\n",
    "\n",
    "from sumy.parsers.plaintext import PlaintextParser\n",
    "from sumy.nlp.tokenizers import Tokenizer\n",
    "from sumy.summarizers.lex_rank import LexRankSummarizer\n",
    "import pandas as pd\n",
    "import numpy as np\n",
    "\n",
    "# loading the dataset - subject to user's path; uploaded from my colab\n",
    "\n",
    "df = pd.read_csv('/content/drive/MyDrive/inc_hack/patient_notes.csv')"
   ]
  },
  {
   "cell_type": "code",
   "execution_count": null,
   "metadata": {
    "colab": {
     "base_uri": "https://localhost:8080/",
     "height": 206
    },
    "id": "mxA0SqDsT2UL",
    "outputId": "33ccacab-b635-45ee-93b0-cdc6206fdd6c"
   },
   "outputs": [
    {
     "data": {
      "text/html": [
       "\n",
       "  <div id=\"df-73179752-91c7-47bb-9f5e-14a889062614\">\n",
       "    <div class=\"colab-df-container\">\n",
       "      <div>\n",
       "<style scoped>\n",
       "    .dataframe tbody tr th:only-of-type {\n",
       "        vertical-align: middle;\n",
       "    }\n",
       "\n",
       "    .dataframe tbody tr th {\n",
       "        vertical-align: top;\n",
       "    }\n",
       "\n",
       "    .dataframe thead th {\n",
       "        text-align: right;\n",
       "    }\n",
       "</style>\n",
       "<table border=\"1\" class=\"dataframe\">\n",
       "  <thead>\n",
       "    <tr style=\"text-align: right;\">\n",
       "      <th></th>\n",
       "      <th>pn_num</th>\n",
       "      <th>case_num</th>\n",
       "      <th>pn_history</th>\n",
       "    </tr>\n",
       "  </thead>\n",
       "  <tbody>\n",
       "    <tr>\n",
       "      <th>0</th>\n",
       "      <td>0</td>\n",
       "      <td>0</td>\n",
       "      <td>17-year-old male, has come to the student heal...</td>\n",
       "    </tr>\n",
       "    <tr>\n",
       "      <th>1</th>\n",
       "      <td>1</td>\n",
       "      <td>0</td>\n",
       "      <td>17 yo male with recurrent palpitations for the...</td>\n",
       "    </tr>\n",
       "    <tr>\n",
       "      <th>2</th>\n",
       "      <td>2</td>\n",
       "      <td>0</td>\n",
       "      <td>Dillon Cleveland is a 17 y.o. male patient wit...</td>\n",
       "    </tr>\n",
       "    <tr>\n",
       "      <th>3</th>\n",
       "      <td>3</td>\n",
       "      <td>0</td>\n",
       "      <td>a 17 yo m c/o palpitation started 3 mos ago; \\...</td>\n",
       "    </tr>\n",
       "    <tr>\n",
       "      <th>4</th>\n",
       "      <td>4</td>\n",
       "      <td>0</td>\n",
       "      <td>17yo male with no pmh here for evaluation of p...</td>\n",
       "    </tr>\n",
       "  </tbody>\n",
       "</table>\n",
       "</div>\n",
       "      <button class=\"colab-df-convert\" onclick=\"convertToInteractive('df-73179752-91c7-47bb-9f5e-14a889062614')\"\n",
       "              title=\"Convert this dataframe to an interactive table.\"\n",
       "              style=\"display:none;\">\n",
       "        \n",
       "  <svg xmlns=\"http://www.w3.org/2000/svg\" height=\"24px\"viewBox=\"0 0 24 24\"\n",
       "       width=\"24px\">\n",
       "    <path d=\"M0 0h24v24H0V0z\" fill=\"none\"/>\n",
       "    <path d=\"M18.56 5.44l.94 2.06.94-2.06 2.06-.94-2.06-.94-.94-2.06-.94 2.06-2.06.94zm-11 1L8.5 8.5l.94-2.06 2.06-.94-2.06-.94L8.5 2.5l-.94 2.06-2.06.94zm10 10l.94 2.06.94-2.06 2.06-.94-2.06-.94-.94-2.06-.94 2.06-2.06.94z\"/><path d=\"M17.41 7.96l-1.37-1.37c-.4-.4-.92-.59-1.43-.59-.52 0-1.04.2-1.43.59L10.3 9.45l-7.72 7.72c-.78.78-.78 2.05 0 2.83L4 21.41c.39.39.9.59 1.41.59.51 0 1.02-.2 1.41-.59l7.78-7.78 2.81-2.81c.8-.78.8-2.07 0-2.86zM5.41 20L4 18.59l7.72-7.72 1.47 1.35L5.41 20z\"/>\n",
       "  </svg>\n",
       "      </button>\n",
       "      \n",
       "  <style>\n",
       "    .colab-df-container {\n",
       "      display:flex;\n",
       "      flex-wrap:wrap;\n",
       "      gap: 12px;\n",
       "    }\n",
       "\n",
       "    .colab-df-convert {\n",
       "      background-color: #E8F0FE;\n",
       "      border: none;\n",
       "      border-radius: 50%;\n",
       "      cursor: pointer;\n",
       "      display: none;\n",
       "      fill: #1967D2;\n",
       "      height: 32px;\n",
       "      padding: 0 0 0 0;\n",
       "      width: 32px;\n",
       "    }\n",
       "\n",
       "    .colab-df-convert:hover {\n",
       "      background-color: #E2EBFA;\n",
       "      box-shadow: 0px 1px 2px rgba(60, 64, 67, 0.3), 0px 1px 3px 1px rgba(60, 64, 67, 0.15);\n",
       "      fill: #174EA6;\n",
       "    }\n",
       "\n",
       "    [theme=dark] .colab-df-convert {\n",
       "      background-color: #3B4455;\n",
       "      fill: #D2E3FC;\n",
       "    }\n",
       "\n",
       "    [theme=dark] .colab-df-convert:hover {\n",
       "      background-color: #434B5C;\n",
       "      box-shadow: 0px 1px 3px 1px rgba(0, 0, 0, 0.15);\n",
       "      filter: drop-shadow(0px 1px 2px rgba(0, 0, 0, 0.3));\n",
       "      fill: #FFFFFF;\n",
       "    }\n",
       "  </style>\n",
       "\n",
       "      <script>\n",
       "        const buttonEl =\n",
       "          document.querySelector('#df-73179752-91c7-47bb-9f5e-14a889062614 button.colab-df-convert');\n",
       "        buttonEl.style.display =\n",
       "          google.colab.kernel.accessAllowed ? 'block' : 'none';\n",
       "\n",
       "        async function convertToInteractive(key) {\n",
       "          const element = document.querySelector('#df-73179752-91c7-47bb-9f5e-14a889062614');\n",
       "          const dataTable =\n",
       "            await google.colab.kernel.invokeFunction('convertToInteractive',\n",
       "                                                     [key], {});\n",
       "          if (!dataTable) return;\n",
       "\n",
       "          const docLinkHtml = 'Like what you see? Visit the ' +\n",
       "            '<a target=\"_blank\" href=https://colab.research.google.com/notebooks/data_table.ipynb>data table notebook</a>'\n",
       "            + ' to learn more about interactive tables.';\n",
       "          element.innerHTML = '';\n",
       "          dataTable['output_type'] = 'display_data';\n",
       "          await google.colab.output.renderOutput(dataTable, element);\n",
       "          const docLink = document.createElement('div');\n",
       "          docLink.innerHTML = docLinkHtml;\n",
       "          element.appendChild(docLink);\n",
       "        }\n",
       "      </script>\n",
       "    </div>\n",
       "  </div>\n",
       "  "
      ],
      "text/plain": [
       "   pn_num  case_num                                         pn_history\n",
       "0       0         0  17-year-old male, has come to the student heal...\n",
       "1       1         0  17 yo male with recurrent palpitations for the...\n",
       "2       2         0  Dillon Cleveland is a 17 y.o. male patient wit...\n",
       "3       3         0  a 17 yo m c/o palpitation started 3 mos ago; \\...\n",
       "4       4         0  17yo male with no pmh here for evaluation of p..."
      ]
     },
     "execution_count": 6,
     "metadata": {},
     "output_type": "execute_result"
    }
   ],
   "source": [
    "# representation of our dataset's first few rows\n",
    "\n",
    "df.head()"
   ]
  },
  {
   "cell_type": "code",
   "execution_count": null,
   "metadata": {
    "colab": {
     "base_uri": "https://localhost:8080/"
    },
    "id": "Angpcd7bVFvK",
    "outputId": "2c5a00f3-8082-4bb1-bdc0-0f0818cef584"
   },
   "outputs": [
    {
     "name": "stderr",
     "output_type": "stream",
     "text": [
      "/usr/local/lib/python3.7/dist-packages/ipykernel_launcher.py:10: FutureWarning: The default value of regex will change from True to False in a future version.\n",
      "  # Remove the CWD from sys.path while we load stuff.\n"
     ]
    }
   ],
   "source": [
    "# text preprocessing -\n",
    "# tokenizing our text from the pn_history column of our dataset \n",
    "\n",
    "sentences = []\n",
    "for s in df['pn_history']:\n",
    "  sentences.append(sent_tokenize(s))\n",
    "sentences = [y for x in sentences for y in x]\n",
    "sentences[:5]\n",
    "\n",
    "clean_sentences = pd.Series(sentences).str.replace(\"[^a-zA-Z]\", \" \")\n",
    "\n",
    "# forcing our text into lowercase\n",
    "\n",
    "clean_sentences = [s.lower() for s in clean_sentences]"
   ]
  },
  {
   "cell_type": "markdown",
   "metadata": {
    "id": "iSZDbmtUHKoh"
   },
   "source": [
    "Stop words removal: Stop words are very commonly used words (a, an, the, etc.) in the documents. These words do not really signify any importance as they do not help in distinguishing two bodies of text.\n",
    "They also take valuable processing power and time if they were included.\n"
   ]
  },
  {
   "cell_type": "code",
   "execution_count": null,
   "metadata": {
    "colab": {
     "base_uri": "https://localhost:8080/"
    },
    "id": "kJueXatSVdKa",
    "outputId": "1780f4a4-a3bc-452e-844c-84a4afdc18f6"
   },
   "outputs": [
    {
     "name": "stdout",
     "output_type": "stream",
     "text": [
      "[nltk_data] Downloading package stopwords to /root/nltk_data...\n",
      "[nltk_data]   Unzipping corpora/stopwords.zip.\n",
      "mr cleveland mother given verbal consent history physical examination treatment began months ago sudden intermittent days lasting min worsening non allev aggrav associated dispnea exersion rest stressed school reports fe feels like heart jumping chest ros denies chest pain dyaphoresis wt loss chills fever nausea vomiting pedal edeam pmh non meds aderol friend nkda fh father mi recently mother thyroid dz sh non smoker mariguana months ago beers weekend basketball school sh std\n"
     ]
    }
   ],
   "source": [
    "# A stop word is a commonly used word (such as “the”, “a”, “an”, “in”) that a search engine has been programmed to ignore,\n",
    "# both when indexing entries for searching and when retrieving them as the result of a search query. \n",
    "# We would not want these words to take up space in our database, or taking up valuable processing time. \n",
    "\n",
    "nltk.download('stopwords')\n",
    "stop_words = stopwords.words('english')\n",
    "\n",
    "def remove_stopwords(sen):\n",
    "    sen_new = \" \".join([i for i in sen if i not in stop_words])\n",
    "    return sen_new\n",
    "clean_sentences = [remove_stopwords(r.split()) for r in clean_sentences]\n",
    "print(clean_sentences[1])"
   ]
  },
  {
   "cell_type": "markdown",
   "metadata": {
    "id": "22oLhI6rLI6n"
   },
   "source": [
    "**Summarization Using LexRank**\n",
    "\n",
    "LexRank is an unsupervised graph based approach for automatic text summarization. The scoring of sentences is done using the graph method. LexRank is used for computing sentence importance based on the concept of eigenvector centrality in a graph representation of sentences.\n",
    "[https://iq.opengenus.org/lexrank-text-summarization/](https://)\n",
    "\n",
    "**Lemmatization**\n",
    "\n",
    " Lemmatization usually refers to doing things properly with the use of a vocabulary and morphological analysis of words, normally aiming to remove inflectional endings only and to return the base or dictionary form of a word, which is known as the lemma.\n",
    "\n",
    "[https://spacy.io/usage/linguistic-features#lemmatization](https://)\n",
    "\n",
    "**Entity Identifying**\n",
    "\n",
    "[https://spacy.io/usage/linguistic-features#entity-linking](https://)"
   ]
  },
  {
   "cell_type": "code",
   "execution_count": null,
   "metadata": {
    "id": "6dk-fu-cRy88"
   },
   "outputs": [],
   "source": [
    "# implementing LexRank summarization using spaCy \n",
    "\n",
    "def sumy_summarizer(data):\n",
    "\tparser = PlaintextParser.from_string(data,Tokenizer(\"english\"))\n",
    "\tlexranksummr = LexRankSummarizer()\n",
    "\tsummr = lexranksummr(parser.document,3)\n",
    "\tsummarized = [str(sentence) for sentence in summr]\n",
    "\tresult = ' '.join(summarized)\n",
    "\treturn result\n",
    "\n",
    "# implementing lemmatization using spaCy\n",
    "\n",
    "def text_analyzer(my_text):\n",
    "\tnlp = spacy.load('en_core_web_sm')\n",
    "\tdata = nlp(my_text)\n",
    "\t# tokens = [ token.text for token in data]\n",
    "\tallData = [('\"Token\":{},\\n\"Lemma\":{}'.format(token.text,token.lemma_))for token in data ]\n",
    "\treturn allData\n",
    "\n",
    "# implementing entity analysis using spaCy\n",
    "\n",
    "def entity_analyzer(my_text):\n",
    "\tnlp = spacy.load('en_core_web_sm')\n",
    "\tdata = nlp(my_text)\n",
    "\ttokens = [ token.text for token in data]\n",
    "\tentities = [(entity.text,entity.label_)for entity in data.ents]\n",
    "\tallData = ['\"TOKEN\":{},\\n\"ENTITIES\":{}'.format(tokens,entities)]\n",
    "\treturn allData\n"
   ]
  },
  {
   "cell_type": "code",
   "execution_count": null,
   "metadata": {
    "colab": {
     "base_uri": "https://localhost:8080/"
    },
    "id": "-e6mw0KzPg_m",
    "outputId": "1b8fc6dd-a17d-41c3-ee20-eb1b5650b63e"
   },
   "outputs": [
    {
     "name": "stdout",
     "output_type": "stream",
     "text": [
      "year old male come student health clinic complaining heart pounding\n",
      "mr cleveland mother given verbal consent history physical examination treatment began months ago sudden intermittent days lasting min worsening non allev aggrav associated dispnea exersion rest stressed school reports fe feels like heart jumping chest ros denies chest pain dyaphoresis wt loss chills fever nausea vomiting pedal edeam pmh non meds aderol friend nkda fh father mi recently mother thyroid dz sh non smoker mariguana months ago beers weekend basketball school sh std\n",
      "yo male recurrent palpitations past mo lasting min happened times since beginning\n",
      "one time durign baskeball game two days ago light headedness pressure chest catching breath fainting\n",
      "teh episodes sweating\n",
      "diarrhea heat intolerance weight loss\n",
      "tried aterol able better concentrate received roommate\n",
      "\n",
      "dillon cleveland\n",
      "male patient significant pmh presents complaints heart pounding\n",
      "going months happens twice month\n",
      "cannot think triggers occurred activity rest\n",
      "occasionally accompanied chest pressure pain located center chest\n",
      "one instance experienced chest pressure lightheadedness shortness breath minutes heart pounding\n",
      "otherwise shortness breath chest pain anxiety medication adderall twice week study aid prescribed fh mother thyroid disease father heart attack age living sh smoking drinks weekend per sitting marijuanna recently recreational drugs\n",
      "yo c palpitation started mos ago nothing improves exacerbates symptoms according happen time may take minutes last time happened days ago playing game associated retrosternal pressure like discomfort felt lightheaded\n",
      "lose conciousness fall\n",
      "associated nausea vomiting headache abdominal pain changes urination bowel habits tremor skin hair change intolerabc pmh none pshh none meds aderol stay awake hosp none fh mother thyroid disease father cad x yr sh smoking drinking weekends cage one time use marijuana\n",
      "yo male pmh evaluation palpitations\n",
      "states last mo felt heart intermittently beat chest associated difficulty catching breath\n"
     ]
    }
   ],
   "source": [
    "# Printing the summaries we derive using our approach for the given dataset\n",
    "\n",
    "summr = []\n",
    "\n",
    "for i in range(0, 20):\n",
    "  print(sumy_summarizer(clean_sentences[i]))"
   ]
  },
  {
   "cell_type": "code",
   "execution_count": null,
   "metadata": {
    "colab": {
     "base_uri": "https://localhost:8080/"
    },
    "id": "1e6eCb8NW4QM",
    "outputId": "d469c5b1-fc03-4d73-ead4-3f7b9430affd"
   },
   "outputs": [
    {
     "name": "stdout",
     "output_type": "stream",
     "text": [
      "year old male come student health clinic complaining heart poundingmr cleveland mother given verbal consent history physical examination treatment began months ago sudden intermittent days lasting min worsening non allev aggrav associated dispnea exersion rest stressed school reports fe feels like heart jumping chest ros denies chest pain dyaphoresis wt loss chills fever nausea vomiting pedal edeam pmh non meds aderol friend nkda fh father mi recently mother thyroid dz sh non smoker mariguana months ago beers weekend basketball school sh stdyo male recurrent palpitations past mo lasting min happened times since beginningone time durign baskeball game two days ago light headedness pressure chest catching breath faintingteh episodes sweatingdiarrhea heat intolerance weight losstried aterol able better concentrate received roommatedillon clevelandmale patient significant pmh presents complaints heart poundinggoing months happens twice monthcannot think triggers occurred activity restoccasionally accompanied chest pressure pain located center chestone instance experienced chest pressure lightheadedness shortness breath minutes heart poundingotherwise shortness breath chest pain anxiety medication adderall twice week study aid prescribed fh mother thyroid disease father heart attack age living sh smoking drinks weekend per sitting marijuanna recently recreational drugsyo c palpitation started mos ago nothing improves exacerbates symptoms according happen time may take minutes last time happened days ago playing game associated retrosternal pressure like discomfort felt lightheadedlose conciousness fallassociated nausea vomiting headache abdominal pain changes urination bowel habits tremor skin hair change intolerabc pmh none pshh none meds aderol stay awake hosp none fh mother thyroid disease father cad x yr sh smoking drinking weekends cage one time use marijuanayo male pmh evaluation palpitationsstates last mo felt heart intermittently beat chest associated difficulty catching breath\n"
     ]
    }
   ],
   "source": [
    "sumy_summarizer(clean_sentences[0:200])\n",
    "print(''.join(clean_sentences[0:20]))"
   ]
  },
  {
   "cell_type": "code",
   "execution_count": null,
   "metadata": {
    "colab": {
     "base_uri": "https://localhost:8080/"
    },
    "id": "RLpKTb1DXl3-",
    "outputId": "05dfa804-6763-4dec-d7dd-38207eefd631"
   },
   "outputs": [
    {
     "name": "stdout",
     "output_type": "stream",
     "text": [
      "  Token year Lemma year\n",
      "  Token old Lemma old\n",
      "  Token male Lemma male\n",
      "  Token come Lemma come\n",
      "  Token student Lemma student\n",
      "  Token health Lemma health\n",
      "  Token clinic Lemma clinic\n",
      "  Token complaining Lemma complain\n",
      "  Token heart Lemma heart\n",
      "  Token pounding Lemma pounding\n",
      "  Token mr Lemma mr\n",
      "  Token cleveland Lemma cleveland\n",
      "  Token mother Lemma mother\n",
      "  Token given Lemma give\n",
      "  Token verbal Lemma verbal\n",
      "  Token consent Lemma consent\n",
      "  Token history Lemma history\n",
      "  Token physical Lemma physical\n",
      "  Token examination Lemma examination\n",
      "  Token treatment Lemma treatment\n",
      "  Token began Lemma begin\n",
      "  Token months Lemma month\n",
      "  Token ago Lemma ago\n",
      "  Token sudden Lemma sudden\n",
      "  Token intermittent Lemma intermittent\n",
      "  Token days Lemma day\n",
      "  Token lasting Lemma last\n",
      "  Token min Lemma min\n",
      "  Token worsening Lemma worsen\n",
      "  Token non Lemma non\n",
      "  Token allev Lemma allev\n",
      "  Token aggrav Lemma aggrav\n",
      "  Token associated Lemma associated\n",
      "  Token dispnea Lemma dispnea\n",
      "  Token exersion Lemma exersion\n",
      "  Token rest Lemma rest\n",
      "  Token stressed Lemma stress\n",
      "  Token school Lemma school\n",
      "  Token reports Lemma report\n",
      "  Token fe Lemma fe\n",
      "  Token feels Lemma feel\n",
      "  Token like Lemma like\n",
      "  Token heart Lemma heart\n",
      "  Token jumping Lemma jump\n",
      "  Token chest Lemma chest\n",
      "  Token ros Lemma ros\n",
      "  Token denies Lemma deny\n",
      "  Token chest Lemma chest\n",
      "  Token pain Lemma pain\n",
      "  Token dyaphoresis Lemma dyaphoresis\n",
      "  Token wt Lemma wt\n",
      "  Token loss Lemma loss\n",
      "  Token chills Lemma chill\n",
      "  Token fever Lemma fever\n",
      "  Token nausea Lemma nausea\n",
      "  Token vomiting Lemma vomiting\n",
      "  Token pedal Lemma pedal\n",
      "  Token edeam Lemma edeam\n",
      "  Token pmh Lemma pmh\n",
      "  Token non Lemma non\n",
      "  Token meds Lemma med\n",
      "  Token aderol Lemma aderol\n",
      "  Token friend Lemma friend\n",
      "  Token nkda Lemma nkda\n",
      "  Token fh Lemma fh\n",
      "  Token father Lemma father\n",
      "  Token mi Lemma mi\n",
      "  Token recently Lemma recently\n",
      "  Token mother Lemma mother\n",
      "  Token thyroid Lemma thyroid\n",
      "  Token dz Lemma dz\n",
      "  Token sh Lemma sh\n",
      "  Token non Lemma non\n",
      "  Token smoker Lemma smoker\n",
      "  Token mariguana Lemma mariguana\n",
      "  Token months Lemma month\n",
      "  Token ago Lemma ago\n",
      "  Token beers Lemma beer\n",
      "  Token weekend Lemma weekend\n",
      "  Token basketball Lemma basketball\n",
      "  Token school Lemma school\n",
      "  Token sh Lemma sh\n",
      "  Token std Lemma std\n",
      "  Token yo Lemma yo\n",
      "  Token male Lemma male\n",
      "  Token recurrent Lemma recurrent\n",
      "  Token palpitations Lemma palpitation\n",
      "  Token past Lemma past\n",
      "  Token mo Lemma mo\n",
      "  Token lasting Lemma last\n",
      "  Token min Lemma min\n",
      "  Token happened Lemma happen\n",
      "  Token times Lemma time\n",
      "  Token since Lemma since\n",
      "  Token beginning Lemma begin\n",
      "  Token one Lemma one\n",
      "  Token time Lemma time\n",
      "  Token durign Lemma durign\n",
      "  Token baskeball Lemma baskeball\n",
      "  Token game Lemma game\n",
      "  Token two Lemma two\n",
      "  Token days Lemma day\n",
      "  Token ago Lemma ago\n",
      "  Token light Lemma light\n",
      "  Token headedness Lemma headedness\n",
      "  Token pressure Lemma pressure\n",
      "  Token chest Lemma chest\n",
      "  Token catching Lemma catch\n",
      "  Token breath Lemma breath\n",
      "  Token fainting Lemma faint\n",
      "  Token teh Lemma teh\n",
      "  Token episodes Lemma episode\n",
      "  Token sweating Lemma sweat\n",
      "  Token diarrhea Lemma diarrhea\n",
      "  Token heat Lemma heat\n",
      "  Token intolerance Lemma intolerance\n",
      "  Token weight Lemma weight\n",
      "  Token loss Lemma loss\n",
      "  Token tried Lemma try\n",
      "  Token aterol Lemma aterol\n",
      "  Token able Lemma able\n",
      "  Token better Lemma better\n",
      "  Token concentrate Lemma concentrate\n",
      "  Token received Lemma receive\n",
      "  Token roommate Lemma roommate\n",
      "  Token dillon Lemma dillon\n",
      "  Token cleveland Lemma cleveland\n",
      "  Token male Lemma male\n",
      "  Token patient Lemma patient\n",
      "  Token significant Lemma significant\n",
      "  Token pmh Lemma pmh\n",
      "  Token presents Lemma present\n",
      "  Token complaints Lemma complaint\n",
      "  Token heart Lemma heart\n",
      "  Token pounding Lemma pounding\n",
      "  Token going Lemma go\n",
      "  Token months Lemma month\n",
      "  Token happens Lemma happen\n",
      "  Token twice Lemma twice\n",
      "  Token month Lemma month\n",
      "  Token can Lemma can\n",
      "  Token not Lemma not\n",
      "  Token think Lemma think\n",
      "  Token triggers Lemma trigger\n",
      "  Token occurred Lemma occur\n",
      "  Token activity Lemma activity\n",
      "  Token rest Lemma rest\n",
      "  Token occasionally Lemma occasionally\n",
      "  Token accompanied Lemma accompany\n",
      "  Token chest Lemma chest\n",
      "  Token pressure Lemma pressure\n",
      "  Token pain Lemma pain\n",
      "  Token located Lemma locate\n",
      "  Token center Lemma center\n",
      "  Token chest Lemma chest\n",
      "  Token one Lemma one\n",
      "  Token instance Lemma instance\n",
      "  Token experienced Lemma experience\n",
      "  Token chest Lemma chest\n",
      "  Token pressure Lemma pressure\n",
      "  Token lightheadedness Lemma lightheadedness\n",
      "  Token shortness Lemma shortness\n",
      "  Token breath Lemma breath\n",
      "  Token minutes Lemma minute\n",
      "  Token heart Lemma heart\n",
      "  Token pounding Lemma pounding\n",
      "  Token otherwise Lemma otherwise\n",
      "  Token shortness Lemma shortness\n",
      "  Token breath Lemma breath\n",
      "  Token chest Lemma chest\n",
      "  Token pain Lemma pain\n",
      "  Token anxiety Lemma anxiety\n",
      "  Token medication Lemma medication\n",
      "  Token adderall Lemma adderall\n",
      "  Token twice Lemma twice\n",
      "  Token week Lemma week\n",
      "  Token study Lemma study\n",
      "  Token aid Lemma aid\n",
      "  Token prescribed Lemma prescribed\n",
      "  Token fh Lemma fh\n",
      "  Token mother Lemma mother\n",
      "  Token thyroid Lemma thyroid\n",
      "  Token disease Lemma disease\n",
      "  Token father Lemma father\n",
      "  Token heart Lemma heart\n",
      "  Token attack Lemma attack\n",
      "  Token age Lemma age\n",
      "  Token living Lemma live\n",
      "  Token sh Lemma sh\n",
      "  Token smoking Lemma smoking\n",
      "  Token drinks Lemma drinks\n",
      "  Token weekend Lemma weekend\n",
      "  Token per Lemma per\n",
      "  Token sitting Lemma sit\n",
      "  Token marijuanna Lemma marijuanna\n",
      "  Token recently Lemma recently\n",
      "  Token recreational Lemma recreational\n",
      "  Token drugs Lemma drug\n",
      "  Token yo Lemma yo\n",
      "  Token c Lemma c\n",
      "  Token palpitation Lemma palpitation\n",
      "  Token started Lemma start\n",
      "  Token mos Lemma mos\n",
      "  Token ago Lemma ago\n",
      "  Token nothing Lemma nothing\n",
      "  Token improves Lemma improve\n",
      "  Token exacerbates Lemma exacerbate\n",
      "  Token symptoms Lemma symptom\n",
      "  Token according Lemma accord\n",
      "  Token happen Lemma happen\n",
      "  Token time Lemma time\n",
      "  Token may Lemma may\n",
      "  Token take Lemma take\n",
      "  Token minutes Lemma minute\n",
      "  Token last Lemma last\n",
      "  Token time Lemma time\n",
      "  Token happened Lemma happen\n",
      "  Token days Lemma day\n",
      "  Token ago Lemma ago\n",
      "  Token playing Lemma play\n",
      "  Token game Lemma game\n",
      "  Token associated Lemma associate\n",
      "  Token retrosternal Lemma retrosternal\n",
      "  Token pressure Lemma pressure\n",
      "  Token like Lemma like\n",
      "  Token discomfort Lemma discomfort\n",
      "  Token felt Lemma feel\n",
      "  Token lightheaded Lemma lightheaded\n",
      "  Token lose Lemma lose\n",
      "  Token conciousness Lemma conciousness\n",
      "  Token fall Lemma fall\n",
      "  Token associated Lemma associated\n",
      "  Token nausea Lemma nausea\n",
      "  Token vomiting Lemma vomiting\n",
      "  Token headache Lemma headache\n",
      "  Token abdominal Lemma abdominal\n",
      "  Token pain Lemma pain\n",
      "  Token changes Lemma change\n",
      "  Token urination Lemma urination\n",
      "  Token bowel Lemma bowel\n",
      "  Token habits Lemma habit\n",
      "  Token tremor Lemma tremor\n",
      "  Token skin Lemma skin\n",
      "  Token hair Lemma hair\n",
      "  Token change Lemma change\n",
      "  Token intolerabc Lemma intolerabc\n",
      "  Token pmh Lemma pmh\n",
      "  Token none Lemma none\n",
      "  Token pshh Lemma pshh\n",
      "  Token none Lemma none\n",
      "  Token meds Lemma med\n",
      "  Token aderol Lemma aderol\n",
      "  Token stay Lemma stay\n",
      "  Token awake Lemma awake\n",
      "  Token hosp Lemma hosp\n",
      "  Token none Lemma none\n",
      "  Token fh Lemma fh\n",
      "  Token mother Lemma mother\n",
      "  Token thyroid Lemma thyroid\n",
      "  Token disease Lemma disease\n",
      "  Token father Lemma father\n",
      "  Token cad Lemma cad\n",
      "  Token x Lemma x\n",
      "  Token yr Lemma yr\n",
      "  Token sh Lemma sh\n",
      "  Token smoking Lemma smoking\n",
      "  Token drinking Lemma drinking\n",
      "  Token weekends Lemma weekend\n",
      "  Token cage Lemma cage\n",
      "  Token one Lemma one\n",
      "  Token time Lemma time\n",
      "  Token use Lemma use\n",
      "  Token marijuana Lemma marijuana\n",
      "  Token yo Lemma yo\n",
      "  Token male Lemma male\n",
      "  Token pmh Lemma pmh\n",
      "  Token evaluation Lemma evaluation\n",
      "  Token palpitations Lemma palpitation\n",
      "  Token states Lemma state\n",
      "  Token last Lemma last\n",
      "  Token mo Lemma mo\n",
      "  Token felt Lemma feel\n",
      "  Token heart Lemma heart\n",
      "  Token intermittently Lemma intermittently\n",
      "  Token beat Lemma beat\n",
      "  Token chest Lemma chest\n",
      "  Token associated Lemma associated\n",
      "  Token difficulty Lemma difficulty\n",
      "  Token catching Lemma catch\n",
      "  Token breath Lemma breath\n"
     ]
    }
   ],
   "source": [
    "# text_analyzer(clean_sentences[1])\n",
    "import re\n",
    "\n",
    "analysis = []\n",
    "\n",
    "for i in range(0, 20):\n",
    "  analysis = text_analyzer(clean_sentences[i])\n",
    "  for k in analysis:\n",
    "    print(\"\",re.sub(r\"[^a-zA-Z0-9]+\", ' ', k))\n"
   ]
  },
  {
   "cell_type": "code",
   "execution_count": null,
   "metadata": {
    "colab": {
     "base_uri": "https://localhost:8080/"
    },
    "id": "fYXS3j_ZXvwZ",
    "outputId": "e39015f6-de0c-45fa-96a1-ff7d17b69edb"
   },
   "outputs": [
    {
     "name": "stdout",
     "output_type": "stream",
     "text": [
      "  TOKEN year old male come student health clinic complaining heart pounding ENTITIES year DATE \n",
      "  TOKEN mr cleveland mother given verbal consent history physical examination treatment began months ago sudden intermittent days lasting min worsening non allev aggrav associated dispnea exersion rest stressed school reports fe feels like heart jumping chest ros denies chest pain dyaphoresis wt loss chills fever nausea vomiting pedal edeam pmh non meds aderol friend nkda fh father mi recently mother thyroid dz sh non smoker mariguana months ago beers weekend basketball school sh std ENTITIES cleveland GPE months ago DATE months ago DATE weekend DATE \n",
      "  TOKEN yo male recurrent palpitations past mo lasting min happened times since beginning ENTITIES yo male recurrent ORG mo lasting min PERSON \n",
      "  TOKEN one time durign baskeball game two days ago light headedness pressure chest catching breath fainting ENTITIES one CARDINAL two days ago DATE \n",
      "  TOKEN teh episodes sweating ENTITIES teh ORG \n",
      "  TOKEN diarrhea heat intolerance weight loss ENTITIES \n",
      "  TOKEN tried aterol able better concentrate received roommate ENTITIES \n",
      "  TOKEN ENTITIES \n",
      "  TOKEN dillon cleveland ENTITIES dillon cleveland PERSON \n",
      "  TOKEN male patient significant pmh presents complaints heart pounding ENTITIES \n",
      "  TOKEN going months happens twice month ENTITIES months DATE twice month DATE \n",
      "  TOKEN can not think triggers occurred activity rest ENTITIES \n",
      "  TOKEN occasionally accompanied chest pressure pain located center chest ENTITIES \n",
      "  TOKEN one instance experienced chest pressure lightheadedness shortness breath minutes heart pounding ENTITIES one CARDINAL \n",
      "  TOKEN otherwise shortness breath chest pain anxiety medication adderall twice week study aid prescribed fh mother thyroid disease father heart attack age living sh smoking drinks weekend per sitting marijuanna recently recreational drugs ENTITIES twice week DATE \n",
      "  TOKEN yo c palpitation started mos ago nothing improves exacerbates symptoms according happen time may take minutes last time happened days ago playing game associated retrosternal pressure like discomfort felt lightheaded ENTITIES yo c palpitation ORG mos ORG minutes last time TIME \n",
      "  TOKEN lose conciousness fall ENTITIES \n",
      "  TOKEN associated nausea vomiting headache abdominal pain changes urination bowel habits tremor skin hair change intolerabc pmh none pshh none meds aderol stay awake hosp none fh mother thyroid disease father cad x yr sh smoking drinking weekends cage one time use marijuana ENTITIES intolerabc pmh PERSON aderol stay PERSON awake hosp LOC weekends DATE marijuana GPE \n",
      "  TOKEN yo male pmh evaluation palpitations ENTITIES yo male pmh evaluation ORG \n",
      "  TOKEN states last mo felt heart intermittently beat chest associated difficulty catching breath ENTITIES \n",
      "  TOKEN states recent event days ago activity soccer game ENTITIES recent event days ago DATE \n",
      "  TOKEN seem note specific precipitatinig factors time ENTITIES \n",
      "  TOKEN also states feels faint events lost consciousness point ENTITIES \n",
      "  TOKEN furthermore endorse theses attacks occuring times month peak mins ENTITIES times month DATE \n",
      "  TOKEN denies stressors home ENTITIES \n",
      "  TOKEN ros denies weight loss fevers recnet illness change bowel habits ENTITIES \n",
      "  TOKEN pmh negative psh negative fhx mom thyroid disorder dad heart condition mi yo ENTITIES pmh negative ORG psh ORG \n",
      "  TOKEN shx tobacco etoh weekends marijuana tried month ago ENTITIES marijuana GPE month ago DATE \n",
      "  TOKEN med taking roommates adderoll intermittently last days ago prior event ENTITIES med ORG last days ago DATE \n",
      "  TOKEN knda ENTITIES knda ORG \n",
      "  TOKEN yo presenting palpitations increased heart rate episodes past months recently days ago ENTITIES yo presenting palpitations PERSON past months recently days ago DATE \n",
      "  TOKEN days ago episode associated chest pressure shortness breath lightheadedness ENTITIES days ago DATE \n",
      "  TOKEN diaphoresis vomiting tremor loss consciousness fever nausea vomiting diarrhea rash change skin colour appetite good denies anxiety prior episode phx healthy medications taking friend prescription adderral help study tests prescribed taking times per week reported temporal relation palpitations allergies none substances cigarettes beers weekends adderall cocaine use substances social history freshman college reported concerns school family history father mi mother thyroid disease ENTITIES \n",
      "  TOKEN yo male presents month history heart pounding racing ENTITIES yo male presents month ORG \n",
      "  TOKEN episodes last minutes ENTITIES last minutes TIME \n",
      "  TOKEN total episodes ENTITIES \n",
      "  TOKEN stop ENTITIES \n",
      "  TOKEN recent episode accompanied chest pressure shortness breath lasted minutes ENTITIES \n",
      "  TOKEN consumes cups coffee night drinks energy drinks weekly ENTITIES night TIME weekly DATE \n",
      "  TOKEN fever weight loss sleeping problems ENTITIES \n"
     ]
    }
   ],
   "source": [
    "# Entity Analysis for patient's inputs: \n",
    "entities = []\n",
    "\n",
    "\n",
    "for i in range(0, 40):\n",
    "  entities.append(entity_analyzer(clean_sentences[i]))\n",
    "  entity = entity_analyzer(clean_sentences[i])\n",
    "  for k in entity:\n",
    "    print(\"\",re.sub(r\"[^a-zA-Z0-9]+\", ' ', k))  "
   ]
  },
  {
   "cell_type": "code",
   "execution_count": null,
   "metadata": {
    "colab": {
     "base_uri": "https://localhost:8080/",
     "height": 70
    },
    "id": "ObyN2O1s6JMS",
    "outputId": "257598dd-1dde-472a-dd32-507176ca548e"
   },
   "outputs": [
    {
     "data": {
      "application/vnd.google.colaboratory.intrinsic+json": {
       "type": "string"
      },
      "text/plain": [
       "'<div class=\"entities\" style=\"line-height: 2.5; direction: ltr\">\\n<mark class=\"entity\" style=\"background: #e4e7d2; padding: 0.45em 0.6em; margin: 0 0.25em; line-height: 1; border-radius: 0.35em;\">\\n    one\\n    <span style=\"font-size: 0.8em; font-weight: bold; line-height: 1; border-radius: 0.35em; text-transform: uppercase; vertical-align: middle; margin-left: 0.5rem\">CARDINAL</span>\\n</mark>\\n instance experienced chest pressure lightheadedness shortness breath minutes heart pounding</div>'"
      ]
     },
     "execution_count": 15,
     "metadata": {},
     "output_type": "execute_result"
    }
   ],
   "source": [
    "from spacy import displacy\n",
    "nlp = spacy.load(\"en_core_web_sm\")\n",
    "doc = nlp(clean_sentences[13])\n",
    "displacy.render(doc, style=\"ent\")"
   ]
  },
  {
   "cell_type": "markdown",
   "metadata": {
    "id": "KEb12NCKKiwv"
   },
   "source": [
    "Visual Representation of Entity Recognition:\n",
    "\n",
    "Albeit, not fully accurate but, does recognise human names, dates etc."
   ]
  },
  {
   "cell_type": "markdown",
   "metadata": {
    "id": "b7PThdmgIHQB"
   },
   "source": [
    "![image.png](data:image/png;base64,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)"
   ]
  }
 ],
 "metadata": {
  "colab": {
   "collapsed_sections": [],
   "name": "sumy.ipynb",
   "provenance": []
  },
  "kernelspec": {
   "display_name": "Python 3 (ipykernel)",
   "language": "python",
   "name": "python3"
  },
  "language_info": {
   "codemirror_mode": {
    "name": "ipython",
    "version": 3
   },
   "file_extension": ".py",
   "mimetype": "text/x-python",
   "name": "python",
   "nbconvert_exporter": "python",
   "pygments_lexer": "ipython3",
   "version": "3.9.7"
  }
 },
 "nbformat": 4,
 "nbformat_minor": 1
}
